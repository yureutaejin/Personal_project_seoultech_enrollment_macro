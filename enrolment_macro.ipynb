{
 "cells": [
  {
   "cell_type": "code",
   "execution_count": 1,
   "id": "e17efd2e",
   "metadata": {},
   "outputs": [],
   "source": [
    "# Library\n",
    "\n",
    "from bs4 import BeautifulSoup as bs\n",
    "from selenium import webdriver\n",
    "import sys\n",
    "from selenium.webdriver.common.keys import Keys\n",
    "import time\n",
    "import requests\n",
    "import random"
   ]
  },
  {
   "cell_type": "code",
   "execution_count": 2,
   "id": "fb32e165",
   "metadata": {},
   "outputs": [
    {
     "name": "stderr",
     "output_type": "stream",
     "text": [
      "/var/folders/h8/sxlsbms534sc8_ln9tk771tr0000gn/T/ipykernel_16973/2950252703.py:7: DeprecationWarning: executable_path has been deprecated, please pass in a Service object\n",
      "  driver = webdriver.Chrome('/Users/jinyuntae/Desktop/development_tool/chromedriver', options=options)\n",
      "/var/folders/h8/sxlsbms534sc8_ln9tk771tr0000gn/T/ipykernel_16973/2950252703.py:13: DeprecationWarning: find_element_by_* commands are deprecated. Please use find_element() instead\n",
      "  driver.find_element_by_name('USER_NUMB').send_keys('19102026')\n",
      "/var/folders/h8/sxlsbms534sc8_ln9tk771tr0000gn/T/ipykernel_16973/2950252703.py:14: DeprecationWarning: find_element_by_* commands are deprecated. Please use find_element() instead\n",
      "  driver.find_element_by_name('PWD').send_keys('sgouk5460!')\n",
      "/var/folders/h8/sxlsbms534sc8_ln9tk771tr0000gn/T/ipykernel_16973/2950252703.py:15: DeprecationWarning: find_element_by_* commands are deprecated. Please use find_element() instead\n",
      "  driver.find_element_by_id('btn_Login').click()\n"
     ]
    },
    {
     "name": "stdout",
     "output_type": "stream",
     "text": [
      "captcha num?885962\n"
     ]
    },
    {
     "name": "stderr",
     "output_type": "stream",
     "text": [
      "/var/folders/h8/sxlsbms534sc8_ln9tk771tr0000gn/T/ipykernel_16973/2950252703.py:29: DeprecationWarning: find_element_by_* commands are deprecated. Please use find_element() instead\n",
      "  driver.find_element_by_id(\"CAPTCHA\").send_keys(direct_input_captcha)\n",
      "/var/folders/h8/sxlsbms534sc8_ln9tk771tr0000gn/T/ipykernel_16973/2950252703.py:31: DeprecationWarning: find_element_by_* commands are deprecated. Please use find_element() instead\n",
      "  driver.find_element_by_class_name(\"btn-layerClose\").click()\n",
      "/var/folders/h8/sxlsbms534sc8_ln9tk771tr0000gn/T/ipykernel_16973/2950252703.py:34: DeprecationWarning: find_element_by_* commands are deprecated. Please use find_element() instead\n",
      "  driver.find_element_by_xpath('//*[@id=\"header\"]/table/tbody/tr[2]/td/div[2]/ul/li[3]/a').click()\n",
      "/var/folders/h8/sxlsbms534sc8_ln9tk771tr0000gn/T/ipykernel_16973/2950252703.py:37: DeprecationWarning: find_element_by_* commands are deprecated. Please use find_element() instead\n",
      "  driver.find_element_by_id('jqg_grd_basket_1').click()\n",
      "/var/folders/h8/sxlsbms534sc8_ln9tk771tr0000gn/T/ipykernel_16973/2950252703.py:38: DeprecationWarning: find_element_by_* commands are deprecated. Please use find_element() instead\n",
      "  driver.find_element_by_id('jqg_grd_basket_2').click()\n",
      "/var/folders/h8/sxlsbms534sc8_ln9tk771tr0000gn/T/ipykernel_16973/2950252703.py:39: DeprecationWarning: find_element_by_* commands are deprecated. Please use find_element() instead\n",
      "  driver.find_element_by_id('btn_basketSave').click()\n"
     ]
    }
   ],
   "source": [
    "\n",
    "\n",
    "# 수강신청 로그인\n",
    "\n",
    "url = 'https://for-s.seoultech.ac.kr/view/login.jsp'\n",
    "options = webdriver.ChromeOptions()\n",
    "options.add_experimental_option(\"excludeSwitches\", [\"enable-logging\"])\n",
    "options.add_argument(\"user-agent=Mozilla/5.0 (Macintosh; Intel Mac OS X 10_15_7) AppleWebKit/537.36 (KHTML, like Gecko) Chrome/97.0.4692.99 Safari/537.36\")\n",
    "driver = webdriver.Chrome('/Users/jinyuntae/Desktop/development_tool/chromedriver', options=options)\n",
    "driver.get(url)\n",
    "\n",
    "\n",
    "time.sleep(random.random()%2+1)\n",
    "\n",
    "driver.find_element_by_name('USER_NUMB').send_keys('19102026')\n",
    "driver.find_element_by_name('PWD').send_keys('sgouk5460!')\n",
    "driver.find_element_by_id('btn_Login').click()\n",
    "\n",
    "time.sleep(5)\n",
    "# 캡차 뚫기\n",
    "# captcha_num = \"\"\n",
    "\n",
    "# captcha_png = driver.find_element_by_id(\"img_captcha\").screenshot_as_png\n",
    "# with open('captcha_repository/captcha.png', 'wb') as file:\n",
    "#     file.write(captcha_png)\n",
    "    \n",
    "# captcha_num = pytesseract.image_to_string(Image.open('captcha_repository/captcha.png'))\n",
    "# print(captcha_num)\n",
    "\n",
    "direct_input_captcha = input(\"captcha num?\") \n",
    "driver.find_element_by_id(\"CAPTCHA\").send_keys(direct_input_captcha)\n",
    "\n",
    "driver.find_element_by_class_name(\"btn-layerClose\").click()\n",
    "\n",
    "time.sleep(5)\n",
    "driver.find_element_by_xpath('//*[@id=\"header\"]/table/tbody/tr[2]/td/div[2]/ul/li[3]/a').click()\n",
    "\n",
    "time.sleep(5)\n",
    "driver.find_element_by_id('jqg_grd_basket_1').click()\n",
    "driver.find_element_by_id('jqg_grd_basket_2').click()\n",
    "driver.find_element_by_id('btn_basketSave').click()"
   ]
  },
  {
   "cell_type": "code",
   "execution_count": null,
   "id": "b9add6ba",
   "metadata": {},
   "outputs": [],
   "source": []
  },
  {
   "cell_type": "code",
   "execution_count": null,
   "id": "f45e57ee",
   "metadata": {},
   "outputs": [],
   "source": []
  }
 ],
 "metadata": {
  "kernelspec": {
   "display_name": "Python 3 (ipykernel)",
   "language": "python",
   "name": "python3"
  },
  "language_info": {
   "codemirror_mode": {
    "name": "ipython",
    "version": 3
   },
   "file_extension": ".py",
   "mimetype": "text/x-python",
   "name": "python",
   "nbconvert_exporter": "python",
   "pygments_lexer": "ipython3",
   "version": "3.8.12"
  }
 },
 "nbformat": 4,
 "nbformat_minor": 5
}
